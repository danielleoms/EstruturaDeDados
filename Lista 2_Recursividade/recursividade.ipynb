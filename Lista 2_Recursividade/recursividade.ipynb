{
 "cells": [
  {
   "attachments": {},
   "cell_type": "markdown",
   "metadata": {},
   "source": [
    "# Lista - Rercursividade"
   ]
  },
  {
   "attachments": {},
   "cell_type": "markdown",
   "metadata": {},
   "source": [
    "#### 1) Faça uma função recursiva que calcule e retorne o fatorial de um número inteiro N."
   ]
  },
  {
   "cell_type": "code",
   "execution_count": 1,
   "metadata": {},
   "outputs": [
    {
     "name": "stdout",
     "output_type": "stream",
     "text": [
      "O fatorial de 2 é 2\n"
     ]
    }
   ],
   "source": [
    "def fatorial(n: int) -> int:\n",
    "    if n == 1 or n == 0:\n",
    "        return 1\n",
    "    return n * fatorial(n - 1)\n",
    "\n",
    "\n",
    "if __name__ == \"__main__\":\n",
    "    n = int(input(\"Digite um número: \"))\n",
    "    fat = fatorial(n)\n",
    "    print(f\"O fatorial de {n} é {fat}\")"
   ]
  },
  {
   "attachments": {},
   "cell_type": "markdown",
   "metadata": {},
   "source": [
    "#### 2) Faça uma função recursiva que calcule e retorne o N-ésimo termo da sequência Fibonacci. Alguns números desta sequência são: 0, 1, 1, 2, 3, 5, 8, 13, 21, 34, 55, 89..."
   ]
  },
  {
   "cell_type": "code",
   "execution_count": null,
   "metadata": {},
   "outputs": [],
   "source": [
    "from functools import lru_cache\n",
    "\n",
    "@lru_cache\n",
    "def fibonacci_sequence(n: int) -> int:\n",
    "    if n < 1:\n",
    "        return 0\n",
    "    if n <= 2:\n",
    "        return 1\n",
    "    return fibonacci_sequence(n - 1) + fibonacci_sequence(n - 2)\n",
    "\n",
    "\n",
    "if __name__ == \"__main__\":\n",
    "    n = int(input(\"Deveja retornar qual o terma da sequência de Fibonacci: \"))\n",
    "    print(f\"O {n}º termo da sequência de Fibonacci é {fibonacci_sequence(n-1)}\")\n",
    "    print(\"E a sequência completa até esse termo é: \", end=\"\")\n",
    "    for i in range(n):\n",
    "        print(fibonacci_sequence(i), end=\" \")"
   ]
  },
  {
   "attachments": {},
   "cell_type": "markdown",
   "metadata": {},
   "source": [
    "#### 3) Faça uma função recursiva que permita inverter um número inteiro N. Ex: 123 - 321 "
   ]
  },
  {
   "cell_type": "code",
   "execution_count": null,
   "metadata": {},
   "outputs": [],
   "source": [
    "# 1ª forma (transformado em lista de strings):\n",
    "def inverte_numero_lista(lista: list, inicio: int, fim: int) -> list:\n",
    "    if inicio >= fim:\n",
    "        return\n",
    "    temp = lista[inicio]\n",
    "    lista[inicio] = lista[fim]\n",
    "    lista[fim] = temp\n",
    "    inverte_numero_lista(lista, inicio + 1, fim - 1)\n",
    "\n",
    "\n",
    "if __name__ == \"__main__\":\n",
    "    numero = 123\n",
    "    lista = list(str(numero))\n",
    "    inverte_numero_lista(lista, 0, len(lista) - 1)\n",
    "    numero_invertido = int(''.join(lista))\n",
    "    print(numero_invertido)\n",
    "\n",
    "\n",
    "# 2ª forma (usando o slice):\n",
    "def inverte(n: int) -> int:\n",
    "    n = str(n)\n",
    "    if n == '':\n",
    "        return n\n",
    "    return n[-1] + inverte(n[:-1])\n",
    "\n",
    "\n",
    "if __name__ == \"__main__\":\n",
    "    numero = 123\n",
    "    numero_invertido = inverte(numero)\n",
    "    print(numero_invertido)\n",
    "\n",
    "\n",
    "# 3ª forma (usando módulo):\n",
    "def inverte_numero(n: int, temp=0) -> int:\n",
    "    if n == 0:\n",
    "        return temp\n",
    "    else:\n",
    "        resto = n % 10\n",
    "        temp = temp * 10 + resto\n",
    "        return inverte_numero(n // 10, temp)\n",
    "\n",
    "\n",
    "if __name__ == \"__main__\":\n",
    "    numero = 123\n",
    "    numero_invertido = inverte_numero(numero)\n",
    "    print(numero_invertido)\n",
    "\n"
   ]
  },
  {
   "attachments": {},
   "cell_type": "markdown",
   "metadata": {},
   "source": [
    "#### 4) Faça uma função recursiva que permita somar os elementos de um vetor de inteiros. "
   ]
  },
  {
   "cell_type": "code",
   "execution_count": null,
   "metadata": {},
   "outputs": [],
   "source": [
    "def soma_vetor(vetor:list, n: int) -> int:\n",
    "    if n == 0:\n",
    "        return 0\n",
    "    else:\n",
    "        return vetor[n-1] + soma_vetor(vetor, n-1)\n",
    "    \n",
    "if __name__ == \"__main__\":\n",
    "    vetor = [1, 2, 3, 4]\n",
    "    print(f\"A soma dos elementos do vetor {vetor} é {soma_vetor(vetor, len(vetor))}\")\n"
   ]
  },
  {
   "attachments": {},
   "cell_type": "markdown",
   "metadata": {},
   "source": [
    "#### 5) Crie uma função recursiva que receba um número inteiro positivo N e calcule o somatório dos números de 1 a N. "
   ]
  },
  {
   "cell_type": "code",
   "execution_count": null,
   "metadata": {},
   "outputs": [],
   "source": [
    "def somatorio(n: int) -> int:\n",
    "    if n == 1:\n",
    "        return 1\n",
    "    else:\n",
    "        return n + somatorio(n-1)\n",
    "\n",
    "if __name__ == \"__main__\":\n",
    "    n = int(input(\"Digite um número inteiro positivo: \"))\n",
    "    print(f\"O somatório de 1 a {n} é {somatorio(n)}\")"
   ]
  },
  {
   "attachments": {},
   "cell_type": "markdown",
   "metadata": {},
   "source": [
    "#### 6) Crie um programa em python, que contenha uma função recursiva que receba dois inteiros positivos k e n e calcule k^n . Utilize apenas multiplicações. O programa principal deve solicitar ao usuário os valores de k e n e imprimir o resultado da chamada da função."
   ]
  },
  {
   "cell_type": "code",
   "execution_count": null,
   "metadata": {},
   "outputs": [],
   "source": [
    "def potencia(n1: int,n2: int) -> int:\n",
    "    if n2 == 0:\n",
    "        return 1\n",
    "    else:\n",
    "        return n1 * potencia(n1,n2-1)\n",
    "\n",
    "\n",
    "if __name__ == \"__main__\":\n",
    "    k = int(input(\"Valor de k (base): \"))\n",
    "    n = int(input(\"Valor de n (expoente): \"))\n",
    "    pot = potencia(k,n)\n",
    "    print(f\"O resultado de {k} elevado a {n} = {pot}\")"
   ]
  },
  {
   "attachments": {},
   "cell_type": "markdown",
   "metadata": {},
   "source": [
    "#### 7) Crie um programa em python que receba um vetor de números reais com 100 elementos. Escreva uma função recursiva que inverta ordem dos elementos presentes no vetor. "
   ]
  },
  {
   "cell_type": "code",
   "execution_count": null,
   "metadata": {},
   "outputs": [],
   "source": [
    "def inverte_vetor(vetor: list, inicio: int, fim: int) -> list:\n",
    "    if inicio >= fim:\n",
    "        return\n",
    "    temp = vetor[inicio]\n",
    "    vetor[inicio] = vetor[fim]\n",
    "    vetor[fim] = temp\n",
    "    inverte_vetor(vetor, inicio+1, fim-1)\n",
    "\n",
    "if __name__ == \"__main__\":\n",
    "    vetor = [float(i) for i in range(100)] # cria um vetor de 100 posições de 0.00 a 99.00\n",
    "    print(f\"Vetor original = {vetor}\")\n",
    "    inverte_vetor(vetor, 0, len(vetor)-1)\n",
    "    print(f\"Vetor invertido: {vetor}\")"
   ]
  },
  {
   "attachments": {},
   "cell_type": "markdown",
   "metadata": {},
   "source": [
    "#### 8) O máximo divisor comum dos inteiros x e y é o maior inteiro que é divisível por x e y. Escreva uma função recursiva mdc em python, que retorna o máximo divisor comum de x e y. O mdc de x e y é definido como segue: se y é igual a 0, então mdc(x,y) é x; caso contrário, mdc(x,y) é mdc (y, x%y), onde % é o operador resto."
   ]
  },
  {
   "cell_type": "code",
   "execution_count": null,
   "metadata": {},
   "outputs": [],
   "source": [
    "def mdc(x:int, y: int) -> int:\n",
    "    if y == 0:\n",
    "        return x\n",
    "    else:\n",
    "        return mdc(y, x % y)\n",
    "\n",
    "if __name__ == \"__main__\":\n",
    "    x = int(input(\"Insira um número: \"))\n",
    "    y = int(input(\"Insira um número: \"))\n",
    "    print(f\"O máximo divisor comum de {x} e {y} é {mdc(x,y)}\")\n"
   ]
  },
  {
   "attachments": {},
   "cell_type": "markdown",
   "metadata": {},
   "source": [
    "#### 9) Crie uma função recursiva que receba um número inteiro positivo N e calcule o somatório dos números de 1 a N. (Igual a questão 05)"
   ]
  },
  {
   "cell_type": "code",
   "execution_count": 45,
   "metadata": {},
   "outputs": [
    {
     "name": "stdout",
     "output_type": "stream",
     "text": [
      "O somatório de 1 a 3 é 6\n"
     ]
    }
   ],
   "source": [
    "def somatorio(n: int) -> int:\n",
    "    if n == 1:\n",
    "        return 1\n",
    "    else:\n",
    "        return n + somatorio(n-1)\n",
    "\n",
    "if __name__ == \"__main__\":\n",
    "    n = int(input(\"Digite um número inteiro positivo: \"))\n",
    "    print(f\"O somatório de 1 a {n} é {somatorio(n)}\")"
   ]
  },
  {
   "attachments": {},
   "cell_type": "markdown",
   "metadata": {},
   "source": [
    "#### 10) Escreva uma função recursiva que determine quantas vezes um dígito K ocorre em um número natural N. Por exemplo, o dígito 2 ocorre 3 vezes em 762021192."
   ]
  },
  {
   "cell_type": "code",
   "execution_count": 44,
   "metadata": {},
   "outputs": [
    {
     "name": "stdout",
     "output_type": "stream",
     "text": [
      "O dígito 2 aparece 3 vezes no número 7620021192\n"
     ]
    }
   ],
   "source": [
    "def contagem(n:int, k:int) -> int:\n",
    "    if n == 0:\n",
    "        return 0\n",
    "    elif n % 10 == k:\n",
    "        return 1 + contagem(n // 10, k)\n",
    "    else:\n",
    "        return contagem(n // 10, k)\n",
    "\n",
    "if __name__ == \"__main__\":\n",
    "    n = 7620021192\n",
    "    k = 2\n",
    "    print(f\"O dígito {k} aparece {contagem(n,k)} vezes no número {n}\")\n",
    "    \n",
    "    "
   ]
  },
  {
   "attachments": {},
   "cell_type": "markdown",
   "metadata": {},
   "source": [
    "#### 11) A multiplicação de dois números inteiros pode ser feita através de somas sucessivas. Proponha um algoritmo recursivo Multip_Rec(n1,n2) que calcule a multiplicação de dois inteiros. "
   ]
  },
  {
   "cell_type": "code",
   "execution_count": 47,
   "metadata": {},
   "outputs": [
    {
     "name": "stdout",
     "output_type": "stream",
     "text": [
      "O resultado da multiplicação de 2 * 23 = 46\n"
     ]
    }
   ],
   "source": [
    "def Multip_Rec(n1: int,n2: int) -> int:\n",
    "    if n2 == 0:\n",
    "        return 0\n",
    "    else:\n",
    "        return n1 + Multip_Rec(n1,n2-1)\n",
    "\n",
    "if __name__ == \"__main__\":\n",
    "    x = 2\n",
    "    y = 23\n",
    "    multip = Multip_Rec(x,y)\n",
    "    print(f\"O resultado da multiplicação de {x} * {y} = {multip}\")"
   ]
  },
  {
   "attachments": {},
   "cell_type": "markdown",
   "metadata": {},
   "source": [
    "#### 12) Faça uma função recursiva que receba um número inteiro positivo N e imprima todos os números naturais de 0 até N em ordem crescente."
   ]
  },
  {
   "cell_type": "code",
   "execution_count": 55,
   "metadata": {},
   "outputs": [
    {
     "name": "stdout",
     "output_type": "stream",
     "text": [
      "0 1 2 3 4 5 6 7 8 9 10 "
     ]
    }
   ],
   "source": [
    "def contagem_progressiva_recursiva(comeca_em: int, termina_em: int) -> int:\n",
    "    print(comeca_em, end= \" \")\n",
    "    if comeca_em >= termina_em:\n",
    "        return comeca_em\n",
    "    return contagem_progressiva_recursiva((comeca_em + 1), termina_em)\n",
    "\n",
    "\n",
    "if __name__ == \"__main__\":\n",
    "    n = int(input(\"Digite um número: \"))\n",
    "    contagem_progressiva_recursiva(0, n)\n",
    "    \n",
    "    "
   ]
  },
  {
   "attachments": {},
   "cell_type": "markdown",
   "metadata": {},
   "source": [
    "#### 13) Faça uma função recursiva que receba um número inteiro positivo N e imprima todos os números naturais de 0 até N em ordem decrescente."
   ]
  },
  {
   "cell_type": "code",
   "execution_count": 57,
   "metadata": {},
   "outputs": [
    {
     "name": "stdout",
     "output_type": "stream",
     "text": [
      "10 9 8 7 6 5 4 3 2 1 0 "
     ]
    }
   ],
   "source": [
    "def contagem_regressiva_recursiva(comeca_em:int, termina_em: int) -> int:\n",
    "    print(comeca_em, end=\" \")\n",
    "    if comeca_em <= termina_em:\n",
    "        return comeca_em\n",
    "    return contagem_regressiva_recursiva((comeca_em - 1), termina_em)\n",
    "\n",
    "\n",
    "if __name__ == \"__main__\":\n",
    "    n = int(input(\"Digite um número: \"))\n",
    "    contagem_regressiva_recursiva(n, 0)"
   ]
  },
  {
   "attachments": {},
   "cell_type": "markdown",
   "metadata": {},
   "source": [
    "#### 14) Faça uma função recursiva que receba um número inteiro positivo par N e imprima todos os números pares de 0 até N em ordem crescente."
   ]
  },
  {
   "cell_type": "code",
   "execution_count": 60,
   "metadata": {},
   "outputs": [
    {
     "name": "stdout",
     "output_type": "stream",
     "text": [
      "0 2 4 6 8 10 12 14 16 18 20 22 24 26 28 30 32 34 36 38 40 "
     ]
    }
   ],
   "source": [
    "def contagem_progressiva_recursiva(comeca_em: int, termina_em: int) -> int:\n",
    "    print(comeca_em, end= \" \")\n",
    "    if comeca_em >= termina_em:\n",
    "        return comeca_em\n",
    "    return contagem_progressiva_recursiva((comeca_em + 2), termina_em)\n",
    "\n",
    "\n",
    "if __name__ == \"__main__\":\n",
    "    while True:\n",
    "        n = int(input(\"Digite um número par: \"))\n",
    "        if n % 2 == 0:\n",
    "            break\n",
    "    contagem_progressiva_recursiva(0, n)"
   ]
  },
  {
   "attachments": {},
   "cell_type": "markdown",
   "metadata": {},
   "source": [
    "#### 15) Faça uma função recursiva que receba um número inteiro positivo par N e imprima todos os números pares de 0 até N em ordem decrescente."
   ]
  },
  {
   "cell_type": "code",
   "execution_count": 64,
   "metadata": {},
   "outputs": [
    {
     "name": "stdout",
     "output_type": "stream",
     "text": [
      "32 30 28 26 24 22 20 18 16 14 12 10 8 6 4 2 0 "
     ]
    }
   ],
   "source": [
    "def contagem_regressiva_recursiva(comeca_em:int, termina_em: int) -> int:\n",
    "    print(comeca_em, end=\" \")\n",
    "    if comeca_em <= termina_em:\n",
    "        return comeca_em\n",
    "    return contagem_regressiva_recursiva((comeca_em - 2), termina_em)\n",
    "\n",
    "\n",
    "if __name__ == \"__main__\":\n",
    "    while True:\n",
    "        n = int(input(\"Digite um número par: \"))\n",
    "        if n % 2 == 0:\n",
    "            break\n",
    "    contagem_regressiva_recursiva(n, 0)"
   ]
  },
  {
   "attachments": {},
   "cell_type": "markdown",
   "metadata": {},
   "source": [
    "#### 16) A função fatorial duplo é definida como o produto de todos os números naturais ímpares de 1 até algum número natural ímpar N. Assim, o fatorial duplo de 5 é 5!! = 1 * 3 * 5 = 15 Faça uma função recursiva que receba um número inteiro positivo impar N e retorne o fatorial duplo desse número."
   ]
  },
  {
   "cell_type": "code",
   "execution_count": 68,
   "metadata": {},
   "outputs": [
    {
     "name": "stdout",
     "output_type": "stream",
     "text": [
      "O fatorial duplo de 5 é 15\n"
     ]
    }
   ],
   "source": [
    "def fatorial_duplo(n: int) -> int:\n",
    "    if n == 1:\n",
    "        return 1\n",
    "    return n * fatorial_duplo(n - 2)\n",
    "\n",
    "\n",
    "if __name__ == \"__main__\":\n",
    "    while True:\n",
    "        n = int(input(\"Digite um número ímpar: \"))\n",
    "        if n % 2 != 0:\n",
    "            break\n",
    "    print(f\"O fatorial duplo de {n} é {fatorial_duplo(n)}\")"
   ]
  }
 ],
 "metadata": {
  "kernelspec": {
   "display_name": "Python 3.10.5 64-bit",
   "language": "python",
   "name": "python3"
  },
  "language_info": {
   "codemirror_mode": {
    "name": "ipython",
    "version": 3
   },
   "file_extension": ".py",
   "mimetype": "text/x-python",
   "name": "python",
   "nbconvert_exporter": "python",
   "pygments_lexer": "ipython3",
   "version": "3.11.1"
  },
  "orig_nbformat": 4,
  "vscode": {
   "interpreter": {
    "hash": "369f2c481f4da34e4445cda3fffd2e751bd1c4d706f27375911949ba6bb62e1c"
   }
  }
 },
 "nbformat": 4,
 "nbformat_minor": 2
}
